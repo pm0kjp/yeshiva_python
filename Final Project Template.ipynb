{
 "cells": [
  {
   "cell_type": "markdown",
   "metadata": {},
   "source": [
    "This is where you'll put a header that includes your\n",
    "\n",
    "# Project Name\n",
    "\n",
    "And the course name and semester\n",
    "as well as the names of all participants."
   ]
  },
  {
   "cell_type": "markdown",
   "metadata": {},
   "source": [
    "## Sections and Required Elements\n",
    "\n",
    "Use headers, horizontal lines, and/or other formatting to clearly break up sections and make each step clear and evident.  You may want to put some of these in a README.md file and others within scripts.  Do what makes sense for the workflow, assuming that you're preparing this project for a naive (non-pythonista) stakeholder, who won't instantly understand what you're doing just by looking at the code.  Briefly explain what you're about to do with each major chunk of code.\n",
    "\n",
    "You may need more than one script to accomplish your goal.  That's fine (and often preferred).  Regardless of how many files are in your GitHub repo, __make sure you include a README__, explaining what the files and/or directories in your repo are and what each one accomplishes."
   ]
  },
  {
   "cell_type": "markdown",
   "metadata": {},
   "source": [
    "### Sections:\n",
    "\n",
    "These are in suggested, but not required order, and in some cases you may wish to combine two or more sections, which is fine as long as section titles or descriptions are clear.\n",
    "\n",
    "* An __abstract__ or __executive summary__ that describes the project.  Examples of what you could include: business motivation, scientific background, hypotheses, methods description, outcome, future application of your findings, unexpected setbacks, etc.  This should be no longer than 250 words.\n",
    "* Data: at least two or more __publicly available datasets__ should be ingested.\n",
    "* __Exploratory data analysis__ (EDA) -- graphical, arithmetic, boolean, etc. methods for exploring data.  Graphics and tables need not be publication quality in the EDA phase.\n",
    "* __Data Preparation__: aggregation, imputation, string splitting, outlier analysis, removal of some data, creation of new variables, conversion of data type, correction of certain values, etc.  Your data *must* require at least some level of cleaning and preparation.\n",
    "* __Statistical reasoning__ about your finding, including two or more test statistics.\n",
    "* If indicated, the creation and __saving to file of any intermediate or final datasets__ that may be used in future analysis.\n",
    "* One or more publication-quality __data visualizations__ that support your finding (see below).\n",
    "* Final claim, recommendation, or scientific __finding__.\n",
    "* Acknowledgements of any help you received outside of this course and your group (e.g. StackOverflow posts, etc.)"
   ]
  },
  {
   "cell_type": "markdown",
   "metadata": {},
   "source": [
    "### Required Elements\n",
    "\n",
    "Note that some required elements are spread throughout the project and should not be separated out.\n",
    "\n",
    "* __Markdown__ that supports the human reader.\n",
    "* Well formed, grammatically correct scientific or business __writing that supports and contextualizes your code__\n",
    "* __Reproducibility instructions__ as needed.  Do I need API keys to access the data?  Do I need special versions of some Python packages?\n",
    "* A well-constructed, easy to understand flow from one step to the next.  Make good transitions from one section to another.\n",
    "* A meaningful data story.  __Why__ are you choosing one type of visualization over another?  __How__ does the statistical evidence bolster your claim?  __What__ did you predict before analyzing the data?  Were you right?\n",
    "* Explanation of which members of your group are responsible for which parts of the project.  This can be interspersed throughout the script(s) or made into its own section."
   ]
  },
  {
   "cell_type": "markdown",
   "metadata": {},
   "source": [
    "## Extras\n",
    "\n",
    "While not required, these extras will position you well to use this project as part of your portfolio.\n",
    "\n",
    "* Stakeholder education -- if you use a novel statistical method, list a video or article that talks about how to use it.\n",
    "* Bibliography / literature review -- do a little background research on the question or problem you're working with and report what you found.\n",
    "* Difficult methods -- be daring and stretch past what we covered in class!\n",
    "* Difficult data -- try using big data, data with lots of cleaning requirements, or data that you have to scrape from a website."
   ]
  }
 ],
 "metadata": {
  "kernelspec": {
   "display_name": "Python 3",
   "language": "python",
   "name": "python3"
  },
  "language_info": {
   "codemirror_mode": {
    "name": "ipython",
    "version": 3
   },
   "file_extension": ".py",
   "mimetype": "text/x-python",
   "name": "python",
   "nbconvert_exporter": "python",
   "pygments_lexer": "ipython3",
   "version": "3.6.5"
  }
 },
 "nbformat": 4,
 "nbformat_minor": 2
}
